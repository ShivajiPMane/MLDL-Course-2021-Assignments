{
 "cells": [
  {
   "cell_type": "markdown",
   "metadata": {},
   "source": [
    "## MLDL course: Python Assignment No. 1"
   ]
  },
  {
   "cell_type": "markdown",
   "metadata": {},
   "source": [
    "#### 1. Write a program which will find all such numbers which are divisible by 7 but are not a multiple of 5, between 2000 and 3200 (both included). The numbers obtained should be printed in a comma-separated sequence on a single line.\n"
   ]
  },
  {
   "cell_type": "code",
   "execution_count": 4,
   "metadata": {},
   "outputs": [
    {
     "name": "stdout",
     "output_type": "stream",
     "text": [
      "[2030, 2065, 2100, 2135, 2170, 2205, 2240, 2275, 2310, 2345, 2380, 2415, 2450, 2485, 2520, 2555, 2590, 2625, 2660, 2695, 2730, 2765, 2800, 2835, 2870, 2905, 2940, 2975, 3010, 3045, 3080, 3115, 3150, 3185]\n"
     ]
    }
   ],
   "source": [
    "# Solution 1: A python program program to find all such numbers wich are divisible by 7 but are not a multiple of 5, between 2000 and 3200 (both included)\n",
    "\n",
    "list_A = []\n",
    "for i in range(2000,3201):\n",
    "    if i % 7 == 0 and i % 5 == 0:\n",
    "        list_A.append(i)\n",
    "print(list_A)"
   ]
  },
  {
   "cell_type": "markdown",
   "metadata": {},
   "source": [
    "#### 2. Write a Python program to accept the user's first and last name and then getting them printed in the the reverse order with a space between first name and last name."
   ]
  },
  {
   "cell_type": "code",
   "execution_count": 5,
   "metadata": {},
   "outputs": [
    {
     "name": "stdout",
     "output_type": "stream",
     "text": [
      "Enter your First Name: Shivaji\n",
      "Enter your Last Name: Mane\n",
      "\n",
      "Your Name is Mane Shivaji\n"
     ]
    }
   ],
   "source": [
    "# Solution 2: A program to accept the users first name and last name and getting them printed in the reverese order with space between first name and last name\n",
    "\n",
    "first_name = str(input(\"Enter your First Name: \"))\n",
    "last_name = str(input(\"Enter your Last Name: \"))\n",
    "print(\"\\nYour Name is \"+last_name+\" \"+first_name)"
   ]
  },
  {
   "cell_type": "markdown",
   "metadata": {},
   "source": [
    "#### 3. Write a Python program to find the volume of a sphere with diameter 12 cm, Formula: V=4/3 * π * r 3"
   ]
  },
  {
   "cell_type": "code",
   "execution_count": 6,
   "metadata": {},
   "outputs": [
    {
     "name": "stdout",
     "output_type": "stream",
     "text": [
      "Volume of sphere with 12 cm diameter is 904.78 cubic centimeter\n"
     ]
    }
   ],
   "source": [
    "# Solution 3: A python program to find volume of sphere with diameter 12 cm\n",
    "\n",
    "import math \n",
    "\n",
    "pi = math.pi\n",
    "dia = 12\n",
    "r = dia / 2\n",
    "V = 4 / 3 * pi * r**3\n",
    "\n",
    "print(\"Volume of sphere with 12 cm diameter is \"+str(round(V, 2))+\" cubic centimeter\")"
   ]
  }
 ],
 "metadata": {
  "kernelspec": {
   "display_name": "Python 3",
   "language": "python",
   "name": "python3"
  },
  "language_info": {
   "codemirror_mode": {
    "name": "ipython",
    "version": 3
   },
   "file_extension": ".py",
   "mimetype": "text/x-python",
   "name": "python",
   "nbconvert_exporter": "python",
   "pygments_lexer": "ipython3",
   "version": "3.7.6"
  }
 },
 "nbformat": 4,
 "nbformat_minor": 4
}
