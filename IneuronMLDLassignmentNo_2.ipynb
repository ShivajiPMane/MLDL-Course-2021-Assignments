{
 "cells": [
  {
   "cell_type": "markdown",
   "metadata": {},
   "source": [
    "## MLDL course: Python Assignment No. 2"
   ]
  },
  {
   "cell_type": "markdown",
   "metadata": {},
   "source": [
    "#### 1. To create a following pattern using nested for loop\n",
    "\n",
    "#### *         \n",
    "#### * *\n",
    "#### * * *     \n",
    "#### * * * *   \n",
    "#### * * * * * \n",
    "#### * * * * \n",
    "#### * * *   \n",
    "#### * *     \n",
    "#### *   "
   ]
  },
  {
   "cell_type": "code",
   "execution_count": 9,
   "metadata": {},
   "outputs": [
    {
     "name": "stdout",
     "output_type": "stream",
     "text": [
      "*         \n",
      "* *       \n",
      "* * *     \n",
      "* * * *   \n",
      "* * * * * \n",
      "* * * * \n",
      "* * *   \n",
      "* *     \n",
      "*       \n"
     ]
    }
   ],
   "source": [
    "for i in range(1,10):\n",
    "    if i < 6:\n",
    "        for j in range(1,6):\n",
    "            if j <= i:\n",
    "                print('*', end=' ')\n",
    "            else:\n",
    "                print(' ', end=' ')\n",
    "        print()\n",
    "    else:\n",
    "        for j in range(1,5):\n",
    "            if j <= 10 - i:\n",
    "                print('*', end=' ')\n",
    "            else:\n",
    "                print(' ', end=' ')\n",
    "        print()"
   ]
  },
  {
   "cell_type": "markdown",
   "metadata": {},
   "source": [
    "#### 2. Write a Python program to reverse a word after accepting the input from the user.\n",
    "#### Sample Output:\n",
    "Input word: ineuron\n",
    "\n",
    "Output: noruen"
   ]
  },
  {
   "cell_type": "code",
   "execution_count": 11,
   "metadata": {},
   "outputs": [
    {
     "name": "stdout",
     "output_type": "stream",
     "text": [
      "Please enter any word: Data Engineer\n",
      "Reverse of entered word is: reenignE ataD\n"
     ]
    }
   ],
   "source": [
    "# Lets first take input word from user and print it in reverse order\n",
    "\n",
    "input_word = str(input(\"Please enter any word: \"))\n",
    "print('Reverse of entered word is:',input_word[::-1])"
   ]
  }
 ],
 "metadata": {
  "kernelspec": {
   "display_name": "Python 3",
   "language": "python",
   "name": "python3"
  },
  "language_info": {
   "codemirror_mode": {
    "name": "ipython",
    "version": 3
   },
   "file_extension": ".py",
   "mimetype": "text/x-python",
   "name": "python",
   "nbconvert_exporter": "python",
   "pygments_lexer": "ipython3",
   "version": "3.7.6"
  }
 },
 "nbformat": 4,
 "nbformat_minor": 4
}
